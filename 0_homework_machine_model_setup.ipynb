{
 "cells": [
  {
   "cell_type": "markdown",
   "metadata": {},
   "source": [
    "# Homework Machine Model Setup"
   ]
  },
  {
   "cell_type": "markdown",
   "metadata": {},
   "source": [
    "Transformers are commonly used for the problem/field of question answering. As a type of neural network, transformers can do their job very well when given the right architecture and enough data. Below, we explore some different models using the `transformers` library. Created by Huggingface, you can get pretrained transformers very easily. \n",
    "\n",
    "If you want to go the not-so-easy route (and preferably have GPUs/TPUs), you might want to take a look at the short section below where I lay out steps you'd need to take to train an `ALBERT` model on the SQuAD dataset. Note that I didn't go this route because I didn't believe it was worth spending money or credits on compute and I didn't want my laptop running for days on end with potentially subpar results. \n",
    "\n",
    "The idea of training a model on my laptop was why I initially chose ALBERT to use for the Homework Machine - it's a lighter weight model compared to its better known relative, BERT. The below section explains how you would go about training ALBERT on the squad 2 dataset for those interested."
   ]
  },
  {
   "cell_type": "markdown",
   "metadata": {},
   "source": [
    "## ALBERT Setup & Tuning\n",
    "\n",
    "To start off, we'll want to clone the [ALBERT repo](https://github.com/google-research/albert) and following the [fine-tuning on SQuAD](https://github.com/google-research/albert#fine-tuning-on-squad) instructions. The `pip` command below will do it for you. Just don't be like me and be sure to fill out the `...` where appropriate. \n",
    "\n",
    "That said, what should we replace the ellipses with? It wasn't super clear to me initially, so I added some comments below to help out anyone who wants to try out this training method. Some are file locations you want to create, others are from files you'll need to download from elsewhere. Let's take a look:\n",
    "\n",
    "```\n",
    "pip install -r albert/requirements.txt\n",
    "python -m albert.run_squad_v2 \\\n",
    "  --albert_config_file=... \\            # download an ALBERT model (ex. https://tfhub.dev/google/albert_large/3, \n",
    "                                        #   links in the readme of ALBERT) and within its folder, use \n",
    "                                        #   \\{your_model}\\assets\\albert_config.json \n",
    "                                        #   (your_model = albert_large_3 for the ex)\n",
    "                                        \n",
    "  --output_dir=... \\                    # output location (not sure what that output is at the moment)\n",
    "  \n",
    "  --train_file=... \\                    # for squad (v2), this is the location of train-v2.0.json \n",
    "                                        #   (downloaded from https://rajpurkar.github.io/SQuAD-explorer/)\n",
    "                                        \n",
    "  --predict_file=... \\                  # same as above, except use dev-v2.0.json\n",
    "  \n",
    "  --train_feature_file=... \\            # a file made by TFRecordWriter. I called this file train_feature_file.tf\n",
    "  \n",
    "  --predict_feature_file=... \\          # assumed to be the same as above\n",
    "  \n",
    "  --predict_feature_left_file=... \\     # assumed to be the same as above\n",
    "  \n",
    "  --init_checkpoint=... \\               # as mentioned in the readme, can instead put:\n",
    "                                        #   --albert_hub_module_handle=https://tfhub.dev/google/albert_base/1\n",
    "                                        #   I have no checkpoints made so I'm fine with using their suggestion\n",
    "                                        \n",
    "  --spm_model_file=... \\                # from your downloaded model, something analagous to \n",
    "                                        #   \\albert_large_3\\assets\\30k-clean.model \n",
    "                                        #   (albert_large_3 is the model I'll be using)\n",
    "                                        \n",
    "  --do_lower_case \\\n",
    "  --max_seq_length=384 \\\n",
    "  --doc_stride=128 \\\n",
    "  --max_query_length=64 \\\n",
    "  --do_train \\\n",
    "  --do_predict \\\n",
    "  --train_batch_size=48 \\\n",
    "  --predict_batch_size=8 \\\n",
    "  --learning_rate=5e-5 \\\n",
    "  --num_train_epochs=2.0 \\\n",
    "  --warmup_proportion=.1 \\\n",
    "  --save_checkpoints_steps=5000 \\\n",
    "  --n_best_size=20 \\\n",
    "  --max_answer_length=30\n",
    "```\n",
    "There are a number of settings I didn't touch on - I'm sure the defaults are reasonable but feel free to look into different setting for things like batch size, epochs and learning rate if you want to make training faster or more manageable given your system's RAM. Definitely worth looking into if training time is a concern."
   ]
  },
  {
   "cell_type": "markdown",
   "metadata": {},
   "source": [
    "## Transformers Library Question Answering\n"
   ]
  },
  {
   "cell_type": "code",
   "execution_count": 1,
   "metadata": {},
   "outputs": [],
   "source": [
    "# mutes all warnings\n",
    "import warnings\n",
    "warnings.filterwarnings(\"ignore\")"
   ]
  },
  {
   "cell_type": "code",
   "execution_count": 2,
   "metadata": {},
   "outputs": [],
   "source": [
    "import numpy as np\n",
    "import pandas as pd\n",
    "import matplotlib.pyplot as plt\n",
    "import seaborn as sns\n",
    "\n",
    "import torch\n",
    "import tensorflow as tf\n",
    "from transformers import pipeline, QuestionAnsweringPipeline\n",
    "# importing both torch and tf to see if it resolves model loading errors\n",
    "from transformers import AutoTokenizer, AutoModelForQuestionAnswering, TFAutoModelForQuestionAnswering\n",
    "\n",
    "import wikipedia\n",
    "\n",
    "from timeit import timeit\n",
    "import json\n",
    "import traceback"
   ]
  },
  {
   "cell_type": "markdown",
   "metadata": {},
   "source": [
    "Let's first test out that the library works as desired. We'll be using the example for question answering taken from the [huggingface transformers site](https://huggingface.co/transformers/task_summary.html)."
   ]
  },
  {
   "cell_type": "code",
   "execution_count": 3,
   "metadata": {},
   "outputs": [
    {
     "name": "stderr",
     "output_type": "stream",
     "text": [
      "All model checkpoint layers were used when initializing TFBertForQuestionAnswering.\n",
      "\n",
      "All the layers of TFBertForQuestionAnswering were initialized from the model checkpoint at bert-large-uncased-whole-word-masking-finetuned-squad.\n",
      "If your task is similar to the task the model of the checkpoint was trained on, you can already use TFBertForQuestionAnswering for predictions without further training.\n"
     ]
    },
    {
     "name": "stdout",
     "output_type": "stream",
     "text": [
      "Question: How many pretrained models are available in 🤗 Transformers?\n",
      "Answer: over 32 +\n",
      "Question: What does 🤗 Transformers provide?\n",
      "Answer: general - purpose architectures\n",
      "Question: 🤗 Transformers provides interoperability between which frameworks?\n",
      "Answer: tensorflow 2. 0 and pytorch\n"
     ]
    }
   ],
   "source": [
    "model_name = \"bert-large-uncased-whole-word-masking-finetuned-squad\"\n",
    "tokenizer = AutoTokenizer.from_pretrained(model_name)\n",
    "model = TFAutoModelForQuestionAnswering.from_pretrained(model_name)\n",
    "\n",
    "\n",
    "text = r\"\"\"\n",
    "🤗 Transformers (formerly known as pytorch-transformers and pytorch-pretrained-bert) provides general-purpose\n",
    "architectures (BERT, GPT-2, RoBERTa, XLM, DistilBert, XLNet…) for Natural Language Understanding (NLU) and Natural\n",
    "Language Generation (NLG) with over 32+ pretrained models in 100+ languages and deep interoperability between\n",
    "TensorFlow 2.0 and PyTorch.\n",
    "\"\"\"\n",
    "questions = [\n",
    "    \"How many pretrained models are available in 🤗 Transformers?\",\n",
    "    \"What does 🤗 Transformers provide?\",\n",
    "    \"🤗 Transformers provides interoperability between which frameworks?\",\n",
    "]\n",
    "for question in questions:\n",
    "    inputs = tokenizer(question, text, add_special_tokens=True, return_tensors=\"tf\")\n",
    "    input_ids = inputs[\"input_ids\"].numpy()[0]\n",
    "    outputs = model(inputs)\n",
    "    answer_start_scores = outputs.start_logits\n",
    "    answer_end_scores = outputs.end_logits\n",
    "    answer_start = tf.argmax(\n",
    "        answer_start_scores, axis=1\n",
    "    ).numpy()[0]  # Get the most likely beginning of answer with the argmax of the score\n",
    "    answer_end = (\n",
    "        tf.argmax(answer_end_scores, axis=1) + 1\n",
    "    ).numpy()[0]  # Get the most likely end of answer with the argmax of the score\n",
    "    answer = tokenizer.convert_tokens_to_string(tokenizer.convert_ids_to_tokens(input_ids[answer_start:answer_end]))\n",
    "    print(f\"Question: {question}\")\n",
    "    print(f\"Answer: {answer}\")"
   ]
  },
  {
   "cell_type": "markdown",
   "metadata": {},
   "source": [
    "Huggingface also has the super easy to use `pipeline` if you don't want a specific model. Below's a very quick demo using the context and questions above."
   ]
  },
  {
   "cell_type": "code",
   "execution_count": 4,
   "metadata": {},
   "outputs": [
    {
     "name": "stdout",
     "output_type": "stream",
     "text": [
      "Question: How many pretrained models are available in 🤗 Transformers?\n",
      "Answer: 'over 32+'\n",
      "Question: What does 🤗 Transformers provide?\n",
      "Answer: 'general-purpose\n",
      "architectures'\n",
      "Question: 🤗 Transformers provides interoperability between which frameworks?\n",
      "Answer: 'TensorFlow 2.0 and PyTorch'\n"
     ]
    }
   ],
   "source": [
    "nlp = pipeline(\"question-answering\")\n",
    "for question in questions:\n",
    "    print(f\"Question: {question}\")\n",
    "    result = nlp(question=question, context=text)\n",
    "    print(f\"Answer: '{result['answer']}'\")\n"
   ]
  },
  {
   "cell_type": "markdown",
   "metadata": {},
   "source": [
    "Awesome, it works! Next we'll show an example of using another model not in the example. Find a model you want to use from the [models](https://huggingface.co/models) page and put its name into the `model_name` variable. \n",
    "\n",
    "I was a bit misled when first trying to use a model such as `deepset/xlm-roberta-large-squad2` when using the tensorflow AutoModelForQuestionAnswering - it showed a `404 can't load weights for...`. This wasn't true for all models, so I eventually though that it might be because the model was only compatible with PyTorch. As you can see below, using torch objects, the loading indeed works. It also brought to my attention that models have a PyTorch and/or TensorFlow tag on their models page (ex. [distilbert-base-uncased-distilled-squad](https://huggingface.co/distilbert-base-uncased-distilled-squad)). This hadn't been obvious to me, so I hope that this was written in the documentation somewhere and I missed it rather than this being a surprise error to users of the library.\n",
    "\n",
    "Once again, we'll take from the huggingface sample code (no more sample code after this, I promise):"
   ]
  },
  {
   "cell_type": "code",
   "execution_count": 5,
   "metadata": {},
   "outputs": [
    {
     "name": "stdout",
     "output_type": "stream",
     "text": [
      "Question: How many pretrained models are available in 🤗 Transformers?\n",
      "Answer: over 32+\n",
      "Question: What does 🤗 Transformers provide?\n",
      "Answer: general-purpose architectures\n",
      "Question: 🤗 Transformers provides interoperability between which frameworks?\n",
      "Answer: tensorflow 2.0 and pytorch\n"
     ]
    }
   ],
   "source": [
    "model_name = \"ktrapeznikov/albert-xlarge-v2-squad-v2\"\n",
    "# model_name = \"deepset/xlm-roberta-large-squad2\"\n",
    "tokenizer = AutoTokenizer.from_pretrained(model_name)\n",
    "model = AutoModelForQuestionAnswering.from_pretrained(model_name)\n",
    "\n",
    "\n",
    "for question in questions:\n",
    "    inputs = tokenizer(question, text, add_special_tokens=True, return_tensors=\"pt\")\n",
    "    input_ids = inputs[\"input_ids\"].tolist()[0]\n",
    "    outputs = model(**inputs)\n",
    "    answer_start_scores = outputs.start_logits\n",
    "    answer_end_scores = outputs.end_logits\n",
    "\n",
    "    answer_start = torch.argmax(\n",
    "        answer_start_scores\n",
    "    )  # Get the most likely beginning of answer with the argmax of the score\n",
    "    answer_end = torch.argmax(answer_end_scores) + 1  # Get the most likely end of answer with the argmax of the score\n",
    "\n",
    "    answer = tokenizer.convert_tokens_to_string(tokenizer.convert_ids_to_tokens(input_ids[answer_start:answer_end]))\n",
    "\n",
    "    print(f\"Question: {question}\")\n",
    "    print(f\"Answer: {answer}\")"
   ]
  },
  {
   "cell_type": "markdown",
   "metadata": {},
   "source": [
    "## Wikipedia Package\n",
    "\n",
    "As those familiar with SQuAD are probably aware, the dataset uses Wikipedia articles. Wikipedia has a huge amount of information, so why not use the `wikipedia` Python package to find the answers to questions our users pose? While there is a newer `Wikipedia-API` package created last year, I'm going to use the `wikipedia` package since it was released back in 2014 and has consequently will have its problems better fleshed out through Github issues and forum questions being raised in the past. It also has all the functionality I need, so that seems sufficient reason for me to use it.\n",
    "\n",
    "As we saw, with the `transformers` package, the actual question answering is very straightforward provided we have the \"context\". But a homework machine is supposed to make your life easy - why should you have to paste in the \"context\" where you think the answer is - at that point you'd already be able to find the answer yourself. So based on the question, the `wikipedia` package will be employed to search and find the context. This doesn't seem like a trivial task, but let's begin with a trivial example and see how this package works."
   ]
  },
  {
   "cell_type": "code",
   "execution_count": 6,
   "metadata": {},
   "outputs": [
    {
     "name": "stdout",
     "output_type": "stream",
     "text": [
      "Here is an example of the Wikipedia API at work.\n",
      "Content from the \"Homework Machine\" page:\n",
      "________________________________________________________________________________\n",
      "Homework Machine is the solo debut album of Zild Benitez, the frontman and bassist of IV of Spades. It was released on August 6, 2020 under Warner Music Philippines.\n",
      "\n",
      "\n",
      "== Background ==\n",
      "On June 12, 2020, Benitez released \"Sinungaling\" with its music video on YouTube. Few weeks later, he also released \"Dila\", along with its music video on July 9, 2020.On August 1, 2020, he posted a picture of the track listing of his solo debut album on Twitter, also announcing the release date of the album on August 6.\n",
      "With the release of the album, he also released the music video for \"Habulan\", making it the third single from the album. On September 12, 2020, he released the animated music video of \"Alalahanin\". He also released the music video for \"Takbo Ng Panahon\" on October 3, 2020.\n",
      "\n",
      "\n",
      "== Track listing ==\n",
      "All tracks are written by Zild Benitez.\n",
      "\n",
      "\n",
      "== Accolades ==\n",
      "\n",
      "\n",
      "== References ==\n",
      "________________________________________________________________________________\n",
      "However, if there is not appropriate entry, we get the following error:\n",
      "________________________________________________________________________________\n"
     ]
    },
    {
     "name": "stderr",
     "output_type": "stream",
     "text": [
      "Traceback (most recent call last):\n",
      "  File \"<ipython-input-6-627df3158a01>\", line 9, in <module>\n",
      "    wikipedia.page('asfdjkl;', auto_suggest=False)\n",
      "  File \"C:\\Users\\dex78\\anaconda3\\lib\\site-packages\\wikipedia\\wikipedia.py\", line 276, in page\n",
      "    return WikipediaPage(title, redirect=redirect, preload=preload)\n",
      "  File \"C:\\Users\\dex78\\anaconda3\\lib\\site-packages\\wikipedia\\wikipedia.py\", line 299, in __init__\n",
      "    self.__load(redirect=redirect, preload=preload)\n",
      "  File \"C:\\Users\\dex78\\anaconda3\\lib\\site-packages\\wikipedia\\wikipedia.py\", line 345, in __load\n",
      "    raise PageError(self.title)\n",
      "wikipedia.exceptions.PageError: Page id \"asfdjkl;\" does not match any pages. Try another id!\n"
     ]
    }
   ],
   "source": [
    "print('Here is an example of the Wikipedia API at work.\\nContent from the \"Homework Machine\" page:')\n",
    "print(80*'_')\n",
    "print(wikipedia.page('Homework Machine', auto_suggest=False).content)\n",
    "\n",
    "print(80*'_')\n",
    "print('However, if there is not appropriate entry, we get the following error:')\n",
    "print(80*'_')\n",
    "try:\n",
    "    wikipedia.page('asfdjkl;', auto_suggest=False)\n",
    "except:\n",
    "    traceback.print_exc()"
   ]
  },
  {
   "cell_type": "code",
   "execution_count": 7,
   "metadata": {},
   "outputs": [
    {
     "name": "stdout",
     "output_type": "stream",
     "text": [
      "Note that if we don't use auto_suggest=False, this may also result in an error.\n",
      "________________________________________________________________________________\n",
      "Ubuntu page, auto_suggest=False\n",
      "________________________________________________________________________________\n",
      "Ubuntu ( (listen) uu-BUUN-too) is a Linux distribution based on Debian and composed mostly of free and open-source software. Ubuntu is officially released in three editions: Desktop, Server, and Core for Internet of things devices and robots. All the editions can run on the computer alone, or in a virtual machine. Ubuntu is a popular operating system for cloud computing, with support for OpenStack. Ubuntu's default desktop has been GNOME, since version 17.10.Ubuntu is released every six months, with long-term support (LTS) releases every two years. As of 22 April 2021, the most recent long-term support release is 20.04 (\"Focal Fossa\"), which is supported until 2025 under public support and until 2030 as a paid option. The latest standard release is 21.04 (\"Hirsute Hippo\"), which is supported for nine months.\n",
      "Ubuntu is developed by Canonical, and a community of other developers, under a meritocratic governance model. Canonical provides security updates and support for each Ubuntu release, starting from the release date and until the release reaches its designated end-of-life (EOL) date. Canonical generates revenue through the sale of premium services related to Ubuntu.Ubuntu is named after the Nguni philosophy of ubuntu, which Canonical indicates means \"humanity to others\" with a connotation of \"I am what I am because of who we all are\".\n",
      "\n",
      "\n",
      "________________________________________________________________________________\n",
      "Ubuntu page, auto_suggest=True (default)\n",
      "________________________________________________________________________________\n"
     ]
    },
    {
     "name": "stderr",
     "output_type": "stream",
     "text": [
      "Traceback (most recent call last):\n",
      "  File \"<ipython-input-7-094882dd345f>\", line 10, in <module>\n",
      "    wikipedia.summary(\"Ubuntu\")\n",
      "  File \"C:\\Users\\dex78\\anaconda3\\lib\\site-packages\\wikipedia\\util.py\", line 28, in __call__\n",
      "    ret = self._cache[key] = self.fn(*args, **kwargs)\n",
      "  File \"C:\\Users\\dex78\\anaconda3\\lib\\site-packages\\wikipedia\\wikipedia.py\", line 231, in summary\n",
      "    page_info = page(title, auto_suggest=auto_suggest, redirect=redirect)\n",
      "  File \"C:\\Users\\dex78\\anaconda3\\lib\\site-packages\\wikipedia\\wikipedia.py\", line 276, in page\n",
      "    return WikipediaPage(title, redirect=redirect, preload=preload)\n",
      "  File \"C:\\Users\\dex78\\anaconda3\\lib\\site-packages\\wikipedia\\wikipedia.py\", line 299, in __init__\n",
      "    self.__load(redirect=redirect, preload=preload)\n",
      "  File \"C:\\Users\\dex78\\anaconda3\\lib\\site-packages\\wikipedia\\wikipedia.py\", line 393, in __load\n",
      "    raise DisambiguationError(getattr(self, 'title', page['title']), may_refer_to)\n",
      "wikipedia.exceptions.DisambiguationError: \"bantu\" may refer to: \n",
      "Bantu languages\n",
      "Bantu peoples\n",
      "Bantu knots\n",
      "Black Association for Nationalism Through Unity\n",
      "Bantu (band)\n",
      "Bantu (album)\n",
      "Bantu FC\n",
      "Bantu expansion\n",
      "Bantustan\n"
     ]
    }
   ],
   "source": [
    "print(\"Note that if we don't use auto_suggest=False, this may also result in an error.\")\n",
    "print(80*'_')\n",
    "print(\"Ubuntu page, auto_suggest=False\")\n",
    "print(80*'_')\n",
    "print(wikipedia.summary(\"Ubuntu\", auto_suggest=False))\n",
    "print(80*'_')\n",
    "print(\"Ubuntu page, auto_suggest=True (default)\")\n",
    "print(80*'_')\n",
    "try:\n",
    "    wikipedia.summary(\"Ubuntu\")\n",
    "except:\n",
    "    traceback.print_exc()"
   ]
  },
  {
   "cell_type": "code",
   "execution_count": 8,
   "metadata": {},
   "outputs": [
    {
     "name": "stdout",
     "output_type": "stream",
     "text": [
      "Computer science is the study of algorithmic processes, computational machines and computation itself. As a discipline, computer science spans a range of topics from theoretical studies of algorithms, computation and information to the practical issues of implementing computational systems in hardware and software.Its fields can be divided into theoretical and practical disciplines. For example, the theory of computation concerns abstract models of computation and general classes of problems that can be solved using them, while computer graphics or computational geometry emphasize more specific applications. Algorithms and data structures have been called the heart of computer science. Programming language theory considers approaches to the description of computational processes, while computer programming involves the use of them to create complex systems. Computer architecture describes construction of computer components and computer-operated equipment. Artificial intelligence aims to synthesize goal-orientated processes such as problem-solving, decision-making, environmental adaptation, planning and learning found in humans and animals. A digital computer is capable of simulating various information processes. The fundamental concern of computer science is determining what can and cannot be automated. Computer scientists usually focus on academic research. The Turing Award is generally recognized as the highest distinction in computer sciences.\n",
      "\n",
      "\n",
      "== History ==\n",
      "\n",
      "The earliest foundations of what would become computer science predate the invention of the modern digital computer. Machines for calculating fixed numerical tasks such as the abacus have existed since antiquity, aiding in computations such as multiplication and division. Algorithms for performing computations have existed since antiquity, even before the development of sophisticated computing equipment. \n",
      "Wilhelm Schickard designed and constructed the first working mechanical calculator in 1623. In 1673, Gottfried Leibniz demonstrated a digital mechanical calculator, called the Stepped Reckoner. Leibniz may be considered the first computer scientist and information theorist, for, among other reasons, documenting the binary number system. In 1820, Thomas de Colmar launched the mechanical calculator industry when he invented his simplified arithmometer, the first calculating machine strong enough and reliable enough to be used daily in an office environment. Charles Babbage started the design of the first automatic mechanical calculator, his Difference Engine, in 1822, which eventually gave him the idea of the first programmable mechanical calculator, his Analytical Engine. He started developing this machine in 1834, and \"in less than two years, he had sketched out many of the salient features of the modern computer\". \"A crucial step was the adoption of a punched card system derived from the Jacquard loom\" making it infinitely programmable. In 1843, during the translation of a French article on the Analytical Engine, Ada Lovelace wrote, in one of the many notes she included, an algorithm to compute the Bernoulli numbers, which is considered to be the first published algorithm ever specifically tailored for implementation on a computer. Around 1885, Herman Hollerith invented the tabulator, which used punched cards to process statistical information; eventually his company became part of IBM. Following Babbage, although unaware of his earlier work, Percy Ludgate in 1909 published  the 2nd of the only two designs for mechanical analytical engines in history. In 1937, one hundred years after Babbage's impossible dream, Howard Aiken convinced IBM, which was making all kinds of punched card equipment and was also in the calculator business to develop his giant programmable calculator, the ASCC/Harvard Mark I, based on Babbage's Analytical Engine, which itself used cards and a central computing unit. When the machine was finished, some hailed it as \"Babbage's dream come true\".\n",
      "During the 1940s, with the development of new and more powerful computing machines such as the Atanasoff–Berry computer and ENIAC, the term computer came to refer to the machines rather than their human predecessors. As it became clear that computers could be used for more than just mathematical calculations, the field of computer science broadened to study computation in general. In 1945, IBM founded the Watson Scientific Computing Laboratory at Columbia University in New York City. The renovated fraternity house on Manhattan's West Side was IBM's first laboratory devoted to pure science. The lab is the forerunner of IBM's Research Division, which today operates research facilities around the world. Ultimately, the close relationship between IBM and the university was instrumental in the emergence of a new scientific discipline, with Columbia offering one of the first academic-credit courses in computer science in 1946. Computer science began to be established as a distinct academic discipline in the 1950s and early 1960s. The world's first computer science degree program, the Cambridge Diploma in Computer Science, began at the University of Cambridge Computer Laboratory in 1953. The first computer science department in the United States was formed at Purdue University in 1962. Since practical computers became available, many applications of computing have become distinct areas of study in their own rights.\n",
      "\n",
      "\n",
      "== Etymology ==\n",
      "\n",
      "Although first proposed in 1956, the term \"computer science\" appears in a 1959 article in Communications of the ACM,\n",
      "in which Louis Fein argues for the creation of a Graduate School in Computer Sciences analogous to the creation of Harvard Business School in 1921, justifying the name by arguing that, like management science, the subject is applied and interdisciplinary in nature, while having the characteristics typical of an academic discipline.\n",
      "His efforts, and those of others such as numerical analyst George Forsythe, were rewarded: universities went on to create such departments, starting with Purdue in 1962. Despite its name, a significant amount of computer science does not involve the study of computers themselves. Because of this, several alternative names have been proposed. Certain departments of major universities prefer the term computing science, to emphasize precisely that difference. Danish scientist Peter Naur suggested the term datalogy, to reflect the fact that the scientific discipline revolves around data and data treatment, while not necessarily involving computers. The first scientific institution to use the term was the Department of Datalogy at the University of Copenhagen, founded in 1969, with Peter Naur being the first professor in datalogy. The term is used mainly in the Scandinavian countries. An alternative term, also proposed by Naur, is data science; this is now used for a multi-disciplinary field of data analysis, including statistics and databases.\n",
      "In the early days of computing, a number of terms for the practitioners of the field of computing were suggested in the Communications of the ACM—turingineer, turologist, flow-charts-man, applied meta-mathematician, and applied epistemologist. Three months later in the same journal, comptologist was suggested, followed next year by hypologist. The term computics has also been suggested. In Europe, terms derived from contracted translations of the expression \"automatic information\" (e.g. \"informazione automatica\" in Italian) or \"information and mathematics\" are often used, e.g. informatique (French), Informatik (German), informatica (Italian, Dutch), informática (Spanish, Portuguese), informatika (Slavic languages and Hungarian) or pliroforiki (πληροφορική, which means informatics) in Greek. Similar words have also been adopted in the UK (as in the School of Informatics of the University of Edinburgh). \"In the U.S., however, informatics is linked with applied computing, or computing in the context of another domain.\"A folkloric quotation, often attributed to—but almost certainly not first formulated by—Edsger Dijkstra, states that \"computer science is no more about computers than astronomy is about telescopes.\" The design and deployment of computers and computer systems is generally considered the province of disciplines other than computer science. For example, the study of computer hardware is usually considered part of computer engineering, while the study of commercial computer systems and their deployment is often called information technology or information systems. However, there has been much cross-fertilization of ideas between the various computer-related disciplines. Computer science research also often intersects other disciplines, such as philosophy, cognitive science, linguistics, mathematics, physics, biology, Earth science, statistics, and logic.\n",
      "Computer science is considered by some to have a much closer relationship with mathematics than many scientific disciplines, with some observers saying that computing is a mathematical science. Early computer science was strongly influenced by the work of mathematicians such as Kurt Gödel, Alan Turing, John von Neumann, Rózsa Péter and Alonzo Church and there continues to be a useful interchange of ideas between the two fields in areas such as mathematical logic, category theory, domain theory, and algebra.The relationship between Computer Science and Software Engineering is a contentious issue, which is further muddied by disputes over what the term \"Software Engineering\" means, and how computer science is defined. David Parnas, taking a cue from the relationship between other engineering and science disciplines, has claimed that the principal focus of computer science is studying the properties of computation in general, while the principal focus of software engineering is the design of specific computations to achieve practical goals, making the two separate but complementary disciplines.The academic, political, and funding aspects of computer science tend to depend on whether a department is formed with a mathematical emphasis or with an engineering emphasis. Computer science departments with a mathematics emphasis and with a numerical orientation consider alignment with computational science. Both types of departments tend to make efforts to bridge the field educationally if not across all research.\n",
      "\n",
      "\n",
      "== Philosophy ==\n",
      "\n",
      "A number of computer scientists have argued for the distinction of three separate paradigms in computer science. Peter Wegner argued that those paradigms are science, technology, and mathematics. Peter Denning's working group argued that they are theory, abstraction (modeling), and design. Amnon H. Eden described them as the \"rationalist paradigm\" (which treats computer science as a branch of mathematics, which is prevalent in theoretical computer science, and mainly employs deductive reasoning), the \"technocratic paradigm\" (which might be found in engineering approaches, most prominently in software engineering), and the \"scientific paradigm\" (which approaches computer-related artifacts from the empirical perspective of natural sciences, identifiable in some branches of artificial intelligence).\n",
      "Computer science focuses on methods involved in design, specification, programming, verification, implementation and testing of human-made computing systems.\n",
      "\n",
      "\n",
      "== Fields ==\n",
      "Computer science is no more about computers than astronomy is about telescopes.\n",
      "\n",
      "As a discipline, computer science spans a range of topics from theoretical studies of algorithms and the limits of computation to the practical issues of implementing computing systems in hardware and software.CSAB, formerly called Computing Sciences Accreditation Board—which is made up of representatives of the Association for Computing Machinery (ACM), and the IEEE Computer Society (IEEE CS)—identifies four areas that it considers crucial to the discipline of computer science: theory of computation, algorithms and data structures, programming methodology and languages, and computer elements and architecture. In addition to these four areas, CSAB also identifies fields such as software engineering, artificial intelligence, computer networking and communication, database systems, parallel computation, distributed computation, human–computer interaction, computer graphics, operating systems, and numerical and symbolic computation as being important areas of computer science.\n",
      "\n",
      "\n",
      "=== Theoretical computer science ===\n",
      "\n",
      "Theoretical Computer Science is mathematical and abstract in spirit, but it derives its motivation from the practical and everyday computation. Its aim is to understand the nature of computation and, as a consequence of this understanding, provide more efficient methodologies.\n",
      "\n",
      "\n",
      "==== Theory of computation ====\n",
      "\n",
      "According to Peter Denning, the fundamental question underlying computer science is, \"What can be automated?\" Theory of computation is focused on answering fundamental questions about what can be computed and what amount of resources are required to perform those computations. In an effort to answer the first question, computability theory examines which computational problems are solvable on various theoretical models of computation. The second question is addressed by computational complexity theory, which studies the time and space costs associated with different approaches to solving a multitude of computational problems.\n",
      "The famous P = NP? problem, one of the Millennium Prize Problems, is an open problem in the theory of computation.\n",
      "\n",
      "\n",
      "==== Information and coding theory ====\n",
      "\n",
      "Information theory, closely related to probability and statistics, is related to the quantification of information. This was developed by Claude Shannon to find fundamental limits on signal processing operations such as compressing data and on reliably storing and communicating data.\n",
      "Coding theory is the study of the properties of codes (systems for converting information from one form to another) and their fitness for a specific application. Codes are used for data compression, cryptography, error detection and correction, and more recently also for network coding. Codes are studied for the purpose of designing efficient and reliable data transmission methods.\n",
      "\n",
      "\n",
      "==== Data structures and algorithms ====\n",
      "Data structures and algorithms are the studies of commonly used computational methods and their computational efficiency.\n",
      "\n",
      "\n",
      "==== Programming language theory and formal methods ====\n",
      "\n",
      "Programming language theory is a branch of computer science that deals with the design, implementation, analysis, characterization, and classification of programming languages and their individual features. It falls within the discipline of computer science, both depending on and affecting mathematics, software engineering, and linguistics. It is an active research area, with numerous dedicated academic journals.\n",
      "Formal methods are a particular kind of mathematically based technique for the specification, development and verification of software and hardware systems. The use of formal methods for software and hardware design is motivated by the expectation that, as in other engineering disciplines, performing appropriate mathematical analysis can contribute to the reliability and robustness of a design. They form an important theoretical underpinning for software engineering, especially where safety or security is involved. Formal methods are a useful adjunct to software testing since they help avoid errors and can also give a framework for testing. For industrial use, tool support is required. However, the high cost of using formal methods means that they are usually only used in the development of high-integrity and life-critical systems, where safety or security is of utmost importance. Formal methods are best described as the application of a fairly broad variety of theoretical computer science fundamentals, in particular logic calculi, formal languages, automata theory, and program semantics, but also type systems and algebraic data types to problems in software and hardware specification and verification.\n",
      "\n",
      "\n",
      "=== Computer systems and computational processes ===\n",
      "\n",
      "\n",
      "==== Artificial intelligence ====\n",
      "\n",
      "Artificial intelligence (AI) aims to or is required to synthesize goal-orientated processes such as problem-solving, decision-making, environmental adaptation, learning, and communication found in humans and animals. From its origins in cybernetics and in the Dartmouth Conference (1956), artificial intelligence research has been necessarily cross-disciplinary, drawing on areas of expertise such as applied mathematics, symbolic logic, semiotics, electrical engineering, philosophy of mind, neurophysiology, and social intelligence. AI is associated in the popular mind with robotic development, but the main field of practical application has been as an embedded component in areas of software development, which require computational understanding. The starting point in the late 1940s was Alan Turing's question \"Can computers think?\", and the question remains effectively unanswered, although the Turing test is still used to assess computer output on the scale of human intelligence. But the automation of evaluative and predictive tasks has been increasingly successful as a substitute for human monitoring and intervention in domains of computer application involving complex real-world data.\n",
      "\n",
      "\n",
      "==== Computer architecture and organization ====\n",
      "\n",
      "Computer architecture, or digital computer organization, is the conceptual design and fundamental operational structure of a computer system. It focuses largely on the way by which the central processing unit performs internally and accesses addresses in memory. Computer engineers study computational logic and design of computer hardware, from individual processor components, microcontrollers, personal computers to supercomputers and embedded systems. The term “architecture” in computer literature can be traced to the work of Lyle R. Johnson and Frederick P. Brooks, Jr., members of the Machine Organization department in IBM's main research center in 1959.\n",
      "\n",
      "\n",
      "==== Concurrent, parallel and distributed computing ====\n",
      "\n",
      "Concurrency is a property of systems in which several computations are executing simultaneously, and potentially interacting with each other. A number of mathematical models have been developed for general concurrent computation including Petri nets, process calculi and the Parallel Random Access Machine model. When multiple computers are connected in a network while using concurrency, this is known as a distributed system. Computers within that distributed system have their own private memory, and information can be exchanged to achieve common goals.\n",
      "\n",
      "\n",
      "==== Computer networks ====\n",
      "\n",
      "This branch of computer science aims to manage networks between computers worldwide.\n",
      "\n",
      "\n",
      "==== Computer security and cryptography ====\n",
      "\n",
      "Computer security is a branch of computer technology with the objective of protecting information from unauthorized access, disruption, or modification while maintaining the accessibility and usability of the system for its intended users. Cryptography is the practice and study of hiding (encryption) and therefore deciphering (decryption) information. Modern cryptography is largely related to computer science, for many encryption and decryption algorithms are based on their computational complexity.\n",
      "\n",
      "\n",
      "==== Databases and data mining ====\n",
      "\n",
      "A database is intended to organize, store, and retrieve large amounts of data easily. Digital databases are managed using database management systems to store, create, maintain, and search data, through database models and query languages. Data mining is a process of discovering patterns in large data sets.\n",
      "\n",
      "\n",
      "==== Computer graphics and visualization ====\n",
      "\n",
      "Computer graphics is the study of digital visual contents and involves the synthesis and manipulation of image data. The study is connected to many other fields in computer science, including computer vision, image processing, and computational geometry, and is heavily applied in the fields of special effects and video games.\n",
      "\n",
      "\n",
      "==== Image and sound processing ====\n",
      "\n",
      "Information can take the form of images, sound, video or other multimedia. Bits of information can be streamed via signals. Its processing is the central notion of informatics, the European view on computing, which studies information processing algorithms independently of the type of information carrier - whether it is electrical, mechanical or biological. This field plays important role in information theory, telecommunications, information engineering and has applications in medical image computing and speech synthesis, among others. What is the lower bound on the complexity of fast Fourier transform algorithms? is one of unsolved problems in theoretical computer science.\n",
      "\n",
      "\n",
      "=== Applied computer science ===\n",
      "\n",
      "\n",
      "==== Computational science, finance and engineering ====\n",
      "\n",
      "Scientific computing (or computational science) is the field of study concerned with constructing mathematical models and quantitative analysis techniques and using computers to analyze and solve scientific problems. A major usage of scientific computing is simulation of various processes, including computational fluid dynamics, physical, electrical, and electronic systems and circuits, as well as societies and social situations (notably war games) along with their habitats, among many others. Modern computers enable optimization of such designs as complete aircraft. Notable in electrical and electronic circuit design are SPICE, as well as software for physical realization of new (or modified) designs. The latter includes essential design software for integrated circuits.\n",
      "\n",
      "\n",
      "==== Social computing and human–computer interaction ====\n",
      "\n",
      "Social computing is an area that is concerned with the intersection of social behavior and computational systems. Human–computer interaction research develops theories, principles, and guidelines for user interface designers.\n",
      "\n",
      "\n",
      "==== Software engineering ====\n",
      "\n",
      "Software engineering is the study of designing, implementing, and modifying the software in order to ensure it is of high quality, affordable, maintainable, and fast to build. It is a systematic approach to software design, involving the application of engineering practices to software. Software engineering deals with the organizing and analyzing of software—it doesn't just deal with the creation or manufacture of new software, but its internal arrangement and maintenance. For example software testing, systems engineering, technical debt and software development processes. \n",
      "\n",
      "\n",
      "== Discoveries ==\n",
      "The philosopher of computing Bill Rapaport noted three Great Insights of Computer Science:\n",
      "Gottfried Wilhelm Leibniz's, George Boole's, Alan Turing's, Claude Shannon's, and Samuel Morse's insight: there are only two objects that a computer has to deal with in order to represent \"anything\".All the information about any computable problem can be represented using only 0 and 1 (or any other bistable pair that can flip-flop between two easily distinguishable states, such as \"on/off\", \"magnetized/de-magnetized\", \"high-voltage/low-voltage\", etc.).\n",
      "Alan Turing's insight: there are only five actions that a computer has to perform in order to do \"anything\".Every algorithm can be expressed in a language for a computer consisting of only five basic instructions:move left one location;\n",
      "move right one location;\n",
      "read symbol at current location;\n",
      "print 0 at current location;\n",
      "print 1 at current location.\n",
      "Corrado Böhm and Giuseppe Jacopini's insight: there are only three ways of combining these actions (into more complex ones) that are needed in order for a computer to do \"anything\".Only three rules are needed to combine any set of basic instructions into more complex ones:\n",
      "sequence: first do this, then do that;\n",
      " selection: IF such-and-such is the case, THEN do this, ELSE do that;\n",
      "repetition: WHILE such-and-such is the case, DO this.\n",
      "Note that the three rules of Boehm's and Jacopini's insight can be further simplified with the use of goto (which means it is more elementary than structured programming).\n",
      "\n",
      "\n",
      "== Programming paradigms ==\n",
      "\n",
      "Programming languages can be used to accomplish different tasks in different ways. Common programming paradigms include:\n",
      "\n",
      "Functional programming, a style of building the structure and elements of computer programs that treats computation as the evaluation of mathematical functions and avoids state and mutable data. It is a declarative programming paradigm, which means programming is done with expressions or declarations instead of statements.\n",
      "Imperative programming, a programming paradigm that uses statements that change a program's state. In much the same way that the imperative mood in natural languages expresses commands, an imperative program consists of commands for the computer to perform. Imperative programming focuses on describing how a program operates.\n",
      "Object-oriented programming, a programming paradigm based on the concept of \"objects\", which may contain data, in the form of fields, often known as attributes; and code, in the form of procedures, often known as methods. A feature of objects is that an object's procedures can access and often modify the data fields of the object with which they are associated. Thus object-oriented computer programs are made out of objects that interact with one another.\n",
      "Service-oriented programming, a programming paradigm that uses \"services\" as the unit of computer work, to design and implement integrated business applications and mission critical software programsMany languages offer support for multiple paradigms, making the distinction more a matter of style than of technical capabilities.\n",
      "\n",
      "\n",
      "== Academia ==\n",
      "\n",
      "Conferences are important events for computer science research. During these conferences, researchers from the public and private sectors present their recent work and meet. Unlike in most other academic fields, in computer science, the prestige of conference papers is greater than that of journal publications. One proposed explanation for this is the quick development of this relatively new field requires rapid review and distribution of results, a task better handled by conferences than by journals.\n",
      "\n",
      "\n",
      "== Education ==\n",
      "\n",
      "Computer Science, known by its near synonyms, Computing, Computer Studies, has been taught in UK schools since the days of batch processing, mark sensitive cards and paper tape but usually to a select few students. In 1981, the BBC produced a micro-computer and classroom network and Computer Studies became common for GCE O level students (11–16-year-old), and Computer Science to A level students. Its importance was recognised, and it became a compulsory part of the National Curriculum, for Key Stage 3 & 4. In September 2014 it became an entitlement for all pupils over the age of 4.In the US, with 14,000 school districts deciding the curriculum, provision was fractured. According to a 2010 report by the Association for Computing Machinery (ACM) and Computer Science Teachers Association (CSTA), only 14 out of 50 states have adopted significant education standards for high school computer science.Israel, New Zealand, and South Korea have included computer science in their national secondary education curricula, and several others are following.\n",
      "\n",
      "\n",
      "== See also ==\n",
      "\n",
      "\n",
      "== Notes ==\n",
      "\n",
      "\n",
      "== References ==\n",
      "\n",
      "\n",
      "== Further reading ==\n",
      "\n",
      "\n",
      "== External links ==\n",
      "\n",
      "Computer science at Curlie\n",
      "Scholarly Societies in Computer Science\n",
      "What is Computer Science?\n",
      "Best Papers Awards in Computer Science since 1996\n",
      "Photographs of computer scientists by Bertrand Meyer\n",
      "EECS.berkeley.edu\n",
      "\n",
      "\n",
      "=== Bibliography and academic search engines ===\n",
      "CiteSeerx (article): search engine, digital library and repository for scientific and academic papers with a focus on computer and information science.\n",
      "DBLP Computer Science Bibliography (article): computer science bibliography website hosted at Universität Trier, in Germany.\n",
      "The Collection of Computer Science Bibliographies (Collection of Computer Science Bibliographies)\n",
      "\n",
      "\n",
      "=== Professional organizations ===\n",
      "Association for Computing Machinery\n",
      "IEEE Computer Society\n",
      "Informatics Europe\n",
      "AAAI\n",
      "AAAS Computer Science\n",
      "\n",
      "\n",
      "=== Misc ===\n",
      "Computer Science—Stack Exchange: a community-run question-and-answer site for computer science\n",
      "What is computer science\n",
      "Is computer science science?\n",
      "Computer Science (Software) Must be Considered as an Independent Discipline.\n"
     ]
    }
   ],
   "source": [
    "print(wikipedia.page('computer science').content)"
   ]
  },
  {
   "cell_type": "markdown",
   "metadata": {},
   "source": [
    "So it seems like the Wikipedia package has a few quirks, but has the basics required to have good enough results. Still, let's list out some of the shortcomings so we can manage expectations.\n",
    "\n",
    "#### Limitations:  \n",
    "1. Wikipedia does not contain information on every subject (it doesn't even have a page for \"The Homework Machine\"!)\n",
    "2. auto_suggest isn't smart - it corrected what was already a valid entry\n",
    "3. page content can be massive as seen in the computer science code block\n",
    "\n",
    "So, what can we do about these facts?\n",
    "#### Solutions:\n",
    "1. Can't do anything about it, no easily accessible better source of context that I'm aware of.\n",
    "2. Keep auto_suggest False and introduce some other spell correction method if a word entry is not found.\n",
    "3. Some method for finding paragraphs that likely have the answer will be employed if the pretrained model can't do a better job on its own. I'm hoping it can handle large pieces of context, but I can check the training data (SQuAD 2) or different queries to see if it's capable.\n"
   ]
  },
  {
   "cell_type": "markdown",
   "metadata": {},
   "source": [
    "Let's take a quick look at the contexts used in the SQuAD dataset to see how long the `context` is normally. I'm unsure if this is the appropriate way to cite the SQuAD dataset if it's necessary for me to do, but below is what [their arXiv page](https://arxiv.org/abs/1606.05250) had under \"cite as\". \n",
    "\n",
    "```arXiv:1606.05250 [cs.CL]```"
   ]
  },
  {
   "cell_type": "code",
   "execution_count": 16,
   "metadata": {},
   "outputs": [
    {
     "name": "stdout",
     "output_type": "stream",
     "text": [
      "Mean Number of Words:\n",
      "137.86363636363637\n"
     ]
    }
   ],
   "source": [
    "# SQuAD (v2) training json\n",
    "squad_filename = 'train-v2.0.json'\n",
    "with open(squad_filename) as f:\n",
    "    squad = json.load(f)\n",
    "\n",
    "total_topics = len(squad['data'])\n",
    "max_topics = 1\n",
    "\n",
    "num_words = []\n",
    "\n",
    "j=0\n",
    "while j < len(squad['data'][0]['paragraphs']):\n",
    "    words = squad['data'][0]['paragraphs'][j]['context']\n",
    "    num_words.append(len(words.split()))\n",
    "    # print Beyonce context strings\n",
    "#     print(words)\n",
    "#     print(80*'_')\n",
    "    j+=1\n",
    "\n",
    "    \n",
    "sample_context = squad['data'][0]['paragraphs'][j]['context']\n",
    "print(sample_context)\n",
    "words_distribution = np.array(num_words)\n",
    "print(\"Mean Number of Words:\")\n",
    "print(round(words_distribution.mean()))"
   ]
  },
  {
   "cell_type": "code",
   "execution_count": 20,
   "metadata": {},
   "outputs": [
    {
     "data": {
      "image/png": "[encoded data removed]",
      "text/plain": [
       "<Figure size 432x288 with 1 Axes>"
      ]
     },
     "metadata": {
      "needs_background": "light"
     },
     "output_type": "display_data"
    }
   ],
   "source": [
    "sns.histplot(words_distribution)\n",
    "plt.xlabel(\"Number of Words\")\n",
    "plt.title(\"Distribution of Number of Words in Beyonce Content\");"
   ]
  },
  {
   "cell_type": "markdown",
   "metadata": {},
   "source": [
    "While there's definitely variation and we're only looking at Beyonce data, we see that context is normally a medium sized paragraph. This informs us that models trained on SQuAD likely cannot be fed large chunks of text with the expectation of having a correct answer. Now, we can see if we can confirm this, but targeted context is obviously a plus if possible.\n",
    "\n",
    "Next, we'll be taking some examples from the SQuAD dataset to see if we can extract appropriate context from Wikipedia articles related to the questions. I should note that it wouldn't be appropriate to test our ML model's performance based on questions used in its training data, however for this task we're just looking at the method to extract `context` so it's not relevant if we're using questions from training.\n",
    "\n",
    "## Context Extraction"
   ]
  },
  {
   "cell_type": "code",
   "execution_count": null,
   "metadata": {},
   "outputs": [],
   "source": []
  }
 ],
 "metadata": {
  "kernelspec": {
   "display_name": "Python [conda env:root] *",
   "language": "python",
   "name": "conda-root-py"
  },
  "language_info": {
   "codemirror_mode": {
    "name": "ipython",
    "version": 3
   },
   "file_extension": ".py",
   "mimetype": "text/x-python",
   "name": "python",
   "nbconvert_exporter": "python",
   "pygments_lexer": "ipython3",
   "version": "3.7.6"
  }
 },
 "nbformat": 4,
 "nbformat_minor": 4
}
