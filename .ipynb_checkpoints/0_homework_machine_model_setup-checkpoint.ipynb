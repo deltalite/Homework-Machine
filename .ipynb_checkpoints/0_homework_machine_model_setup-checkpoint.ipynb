{
 "cells": [
  {
   "cell_type": "markdown",
   "metadata": {},
   "source": [
    "# Homework Machine Model Setup"
   ]
  },
  {
   "cell_type": "markdown",
   "metadata": {},
   "source": [
    "## ALBERT Setup & Tuning\n",
    "\n",
    "I'll start off by cloning the [ALBERT repo](https://github.com/google-research/albert) and following the [fine-tuning on SQuAD](https://github.com/google-research/albert#fine-tuning-on-squad) instructions. Don't make the mistake I made (since this is my first doing something like this) and fill out the `...` in the command for tuning. \n",
    "\n",
    "That said, what are the appropriate parameters for this command? It wasn't super clear to me initially, so I want to detail it here. Some are file locations you want to create, others are from files you need to download from elsewhere. Let's take a look assuming we :\n",
    "\n",
    "```\n",
    "pip install -r albert/requirements.txt\n",
    "python -m albert.run_squad_v2 \\\n",
    "  --albert_config_file=... \\            # download an ALBERT model (ex. https://tfhub.dev/google/albert_large/3, \n",
    "                                        #   links in the readme of ALBERT) and within its folder, use \n",
    "                                        #   \\{your_model}\\assets\\albert_config.json \n",
    "                                        #   (your_model = albert_large_3 for the ex)\n",
    "                                        \n",
    "  --output_dir=... \\                    # output location (not sure what that output is at the moment)\n",
    "  \n",
    "  --train_file=... \\                    # for squad (v2), this is the location of train-v2.0.json \n",
    "                                        #   (downloaded from https://rajpurkar.github.io/SQuAD-explorer/)\n",
    "                                        \n",
    "  --predict_file=... \\                  # same as above, except use dev-v2.0.json\n",
    "  \n",
    "  --train_feature_file=... \\            # a file made by TFRecordWriter. I called this file train_feature_file.tf\n",
    "  \n",
    "  --predict_feature_file=... \\          # assumed to be the same as above\n",
    "  \n",
    "  --predict_feature_left_file=... \\     # assumed to be the same as above\n",
    "  \n",
    "  --init_checkpoint=... \\               # as mentioned in the readme, can instead put:\n",
    "                                        #   --albert_hub_module_handle=https://tfhub.dev/google/albert_base/1\n",
    "                                        #   I have no checkpoints made so I'm fine with using their suggestion\n",
    "                                        \n",
    "  --spm_model_file=... \\                # from your downloaded model, something analagous to \n",
    "                                        #   \\albert_large_3\\assets\\30k-clean.model \n",
    "                                        #   (albert_large_3 is the model I'll be using)\n",
    "                                        \n",
    "  --do_lower_case \\\n",
    "  --max_seq_length=384 \\\n",
    "  --doc_stride=128 \\\n",
    "  --max_query_length=64 \\\n",
    "  --do_train \\\n",
    "  --do_predict \\\n",
    "  --train_batch_size=48 \\\n",
    "  --predict_batch_size=8 \\\n",
    "  --learning_rate=5e-5 \\\n",
    "  --num_train_epochs=2.0 \\\n",
    "  --warmup_proportion=.1 \\\n",
    "  --save_checkpoints_steps=5000 \\\n",
    "  --n_best_size=20 \\\n",
    "  --max_answer_length=30\n",
    "```\n",
    "and I plan to leave the rest of the settings as default.\n",
    "\n",
    "This command seems to take quite a while to run (I'll check if tensorflow can help speed it up - think I saw somewhere something about GPU) so that's as far as I'm going to get tonight. I'm hoping there won't be any errors when this finishes, but I'll update my comments if there is anything unexpected.\n",
    "\n",
    "TODO:\n",
    "- run above command\n",
    "- edit command comments as required\n",
    "- figure out how to predict with the model (I've only worked with keras models, little exp with tensorflow)"
   ]
  },
  {
   "cell_type": "code",
   "execution_count": null,
   "metadata": {},
   "outputs": [],
   "source": [
    "import numpy as np\n",
    "import pandas as pd"
   ]
  }
 ],
 "metadata": {
  "kernelspec": {
   "display_name": "Python [conda env:root] *",
   "language": "python",
   "name": "conda-root-py"
  },
  "language_info": {
   "codemirror_mode": {
    "name": "ipython",
    "version": 3
   },
   "file_extension": ".py",
   "mimetype": "text/x-python",
   "name": "python",
   "nbconvert_exporter": "python",
   "pygments_lexer": "ipython3",
   "version": "3.7.6"
  }
 },
 "nbformat": 4,
 "nbformat_minor": 4
}
